{
 "cells": [
  {
   "cell_type": "code",
   "execution_count": 11,
   "id": "c164c507",
   "metadata": {},
   "outputs": [],
   "source": [
    "from typing import List, Optional\n",
    "from enum import Enum\n",
    "from pydantic import BaseModel, Field, FilePath"
   ]
  },
  {
   "cell_type": "code",
   "execution_count": 19,
   "id": "a214bf97",
   "metadata": {},
   "outputs": [],
   "source": [
    "# Cubic models\n",
    "class vdW1(BaseModel):\n",
    "    a: float = Field(annotation=\"The parameter a in vdW\")\n",
    "    b: float = Field(annotation=\"The parameter b in vdW\")\n",
    "        \n",
    "class vdW(BaseModel):\n",
    "    TcK: List[float] = Field(alias='Tcrit / K', annotation='The critical temperaturess in K')\n",
    "    pcK: List[float] = Field(alias='pcrit / Pa', annotation='The critical pressures in Pa')\n",
    "        \n",
    "# Helper types for cubic models\n",
    "class AlphaOptions(str, Enum):\n",
    "    Twu = \"Twu\"\n",
    "class CubicAlpha(BaseModel):\n",
    "    type_: AlphaOptions = Field(alias='type', annotation='The type of the alpha function')\n",
    "    c: List[float] = Field(min_length=3, max_length=3, annotation='The set of coefficients')\n",
    "        \n",
    "class PR(BaseModel):\n",
    "    TcK: List[float] = Field(alias='Tcrit / K', annotation='The critical temperaturess in K')\n",
    "    pcK: List[float] = Field(alias='pcrit / Pa', annotation='The critical pressures in Pa')\n",
    "    acentric: List[float] = Field(annotation='The acentric factors')\n",
    "    alpha: CubicAlpha = Field(default=None, annotation='The alpha function used in the attractive part')\n",
    "    kmat: Optional[List[List[float]]] = Field(default=None, annotation=\"The NxN matrix of kij factors\")\n",
    "        \n",
    "SRK = PR"
   ]
  },
  {
   "cell_type": "code",
   "execution_count": 20,
   "id": "038387de",
   "metadata": {},
   "outputs": [],
   "source": [
    "class CPAPure(BaseModel):\n",
    "    a0i: float = Field(alias=\"a0i / Pa m^6/mol^2\")\n",
    "    bi: float = Field(alias=\"bi / m^3/mol\")\n",
    "    c1: float = Field(alias=\"c1\")\n",
    "    Tc: float = Field(alias=\"Tc / K\")\n",
    "    epsAB: float = Field(alias=\"epsABi / J/mol\")\n",
    "    betaAB: float = Field(alias=\"betaABi\")\n",
    "    \n",
    "class CPACubicEnum(str, Enum):\n",
    "    PR = \"PR\"\n",
    "    SRK = \"SRK\"\n",
    "    \n",
    "class CPA(BaseModel):\n",
    "    cubic: CPACubicEnum\n",
    "    pures: List[CPAPure]\n",
    "    R: float = Field(alias=\"R_gas / J/mol/K\")"
   ]
  },
  {
   "cell_type": "code",
   "execution_count": 31,
   "id": "6b0aee39",
   "metadata": {},
   "outputs": [],
   "source": [
    "class multifluid(BaseModel):\n",
    "    components: List[FilePath | str]\n",
    "    root: Optional[str]\n",
    "    departure: FilePath | List[dict]\n",
    "    BIP: FilePath | List[dict]\n",
    "    flags: Optional[object]"
   ]
  },
  {
   "cell_type": "code",
   "execution_count": 26,
   "id": "7672799b",
   "metadata": {},
   "outputs": [],
   "source": [
    "# Some model potentials requiring arguments\n",
    "class SW_EspindolaHeredia2009(BaseModel):\n",
    "    lambda_: float = Field(alias='lambda', annotation='The well width, where the attractive part goes includes r=(sigma,lambda*sigma)')\n",
    "    \n",
    "class EXP6_Kataoka1992(BaseModel):\n",
    "    alpha: float = Field(annotation='The alpha parameter controlling the hardness of the EXP-6 potential')\n",
    "        \n",
    "class Mie_Pohl2023(BaseModel):\n",
    "    lambda_a: float = Field(annotation='The attractive exponent; the repulsive exponent is 6')\n",
    "        \n",
    "class TwoCLJFAuthors(str, Enum):\n",
    "    Mecke = \"2CLJF_Mecke\"\n",
    "    Lisal = \"2CLJF_Lisal\"\n",
    "    \n",
    "class TwoCJLF_Dipole(BaseModel):\n",
    "    author: TwoCLJFAuthors\n",
    "    Lstar2: float = Field(annotation=\"The dimensionless separation of centers\")\n",
    "    mustar2: float = Field(annotation='The dipole moment squared, expressed in simulation units')\n",
    "        \n",
    "class TwoCJLF_Quadrupole(BaseModel):\n",
    "    author: TwoCLJFAuthors\n",
    "    Lstar2: float = Field(annotation=\"The dimensionless separation of centers\")\n",
    "    Qstar2: float = Field(annotation='The quadrupole moment squared, expressed in simulation units')"
   ]
  },
  {
   "cell_type": "code",
   "execution_count": 30,
   "id": "1e2ca6b8",
   "metadata": {},
   "outputs": [],
   "source": [
    "class ECSHuberEly1994ReferenceFluid(BaseModel):\n",
    "    name: str = Field(annotation=\"The name of the fluid, could be an absolute path to the .json of a multifluid EOS\")\n",
    "    acentric: float = Field(annotation=\"The acentric factor\")\n",
    "    Z_crit: float  = Field(annotation=\"The critical compressibility factor; Z = p/(rho*R*T)\")\n",
    "    T_crit: float = Field(alias=\"T_crit / K\", annotation=\"The critical temperature\")\n",
    "    rhomolar_crit: float = Field(alias=\"rhomolar_crit / mol/m^3\", annotation=\"The critical density\")\n",
    "        \n",
    "class ECSHuberEly1994Fluid(BaseModel):\n",
    "    acentric: float = Field(annotation=\"The acentric factor\")\n",
    "    Z_crit: float  = Field(annotation=\"The critical compressibility factor; Z = p/(rho*R*T)\")\n",
    "    T_crit: float = Field(alias=\"T_crit / K\", annotation=\"The critical temperature\")\n",
    "    rhomolar_crit: float = Field(alias=\"rhomolar_crit / mol/m^3\", annotation=\"The critical density\")\n",
    "    f_T_coeffs: List[float] = Field(min_length=2, max_length=2, annotation='The array containing the coefficients alpha_1 and alpha_2 used in f');\n",
    "    h_T_coeffs: List[float] = Field(min_length=2, max_length=2, annotation='The array containing the coefficients beta_1 and beta_2 used in h');\n",
    "        \n",
    "class MultifluidECSHuberEly1994(BaseModel):\n",
    "    reference_fluid: ECSHuberEly1994ReferenceFluid\n",
    "    fluid: ECSHuberEly1994Fluid"
   ]
  },
  {
   "cell_type": "code",
   "execution_count": 32,
   "id": "3a69ada4",
   "metadata": {},
   "outputs": [],
   "source": [
    "import json\n",
    "    \n",
    "examples = [\n",
    "    {\"kind\": \"vdW1\", \"model\":{\"a\": 1.0, \"b\": 2.0}},\n",
    "    {\"kind\": \"PR\", \"model\": {\"Tcrit / K\": [190], \"pcrit / Pa\": [3.5e6], \"acentric\": [0.11], \"alpha\": {\"type\": \"Twu\", \"c\":[1,2,3]}}}\n",
    "]\n",
    "for example in examples:\n",
    "    klass = locals()[example['kind']]\n",
    "    klass.model_validate(example['model'])\n",
    "    \n",
    "# Put each of the schemas into a dictionary where the key is the \n",
    "# model kind (as a string) with the value being the schema for this particular \n",
    "# model kind\n",
    "schemas = {}\n",
    "for klass in [vdW1, vdW, PR, SRK, CPA, \n",
    "              SW_EspindolaHeredia2009, EXP6_Kataoka1992, Mie_Pohl2023, \n",
    "              (TwoCJLF_Dipole, \"2CLJF-Dipole\"),\n",
    "              (TwoCJLF_Quadrupole, \"2CLJF-Quadrupole\"),\n",
    "              (MultifluidECSHuberEly1994, \"multifluid-ECS-HuberEly1994\"),\n",
    "              MultifluidECSHuberEly1994,\n",
    "             ]:\n",
    "    if isinstance(klass, tuple) and len(klass) == 2:\n",
    "        schemas[klass[1]] = klass[0].model_json_schema()\n",
    "    else:\n",
    "        schemas[klass.__name__] = klass.model_json_schema()\n",
    "    \n",
    "with open(\"schemas.json\",'w') as fp:\n",
    "    fp.write(json.dumps(schemas, indent=2))"
   ]
  }
 ],
 "metadata": {
  "kernelspec": {
   "display_name": "Python 3 (ipykernel)",
   "language": "python",
   "name": "python3"
  },
  "language_info": {
   "codemirror_mode": {
    "name": "ipython",
    "version": 3
   },
   "file_extension": ".py",
   "mimetype": "text/x-python",
   "name": "python",
   "nbconvert_exporter": "python",
   "pygments_lexer": "ipython3",
   "version": "3.10.6"
  }
 },
 "nbformat": 4,
 "nbformat_minor": 5
}
