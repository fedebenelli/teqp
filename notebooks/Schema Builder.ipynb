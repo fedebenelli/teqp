{
 "cells": [
  {
   "cell_type": "code",
   "execution_count": 11,
   "id": "c164c507",
   "metadata": {},
   "outputs": [],
   "source": [
    "from typing import List, Optional\n",
    "from enum import Enum\n",
    "from pydantic import BaseModel, Field, FilePath"
   ]
  },
  {
   "cell_type": "code",
   "execution_count": 12,
   "id": "6b0aee39",
   "metadata": {},
   "outputs": [],
   "source": [
    "class vdW1(BaseModel):\n",
    "    a: float = Field(annotation=\"The parameter a in vdW\")\n",
    "    b: float = Field(annotation=\"The parameter b in vdW\")\n",
    "        \n",
    "class vdW(BaseModel):\n",
    "    TcK: List[float] = Field(alias='Tcrit / K', annotation='The critical temperaturess in K')\n",
    "    pcK: List[float] = Field(alias='pcrit / Pa', annotation='The critical pressures in Pa')\n",
    "        \n",
    "# Helper types for cubic models\n",
    "class AlphaOptions(str, Enum):\n",
    "    Twu = \"Twu\"\n",
    "class CubicAlpha(BaseModel):\n",
    "    type_: AlphaOptions = Field(alias='type', annotation='The type of the alpha function')\n",
    "    c: List[float] = Field(min_length=3, max_length=3, annotation='The set of coefficients')\n",
    "        \n",
    "class PR(BaseModel):\n",
    "    TcK: List[float] = Field(alias='Tcrit / K', annotation='The critical temperaturess in K')\n",
    "    pcK: List[float] = Field(alias='pcrit / Pa', annotation='The critical pressures in Pa')\n",
    "    acentric: List[float] = Field(annotation='The acentric factors')\n",
    "    alpha: CubicAlpha = Field(default=None, annotation='The alpha function used in the attractive part')\n",
    "    kmat: Optional[List[List[float]]] = Field(default=None, annotation=\"The NxN matrix of kij factors\")\n",
    "        \n",
    "SRK = PR\n",
    "\n",
    "class multifluid(BaseModel):\n",
    "    components: List[FilePath | str]\n",
    "    root: Optional[str]\n",
    "    departure: FilePath | List[dict]\n",
    "    BIP: FilePath | List[dict]\n",
    "    flags: Optional[object]"
   ]
  },
  {
   "cell_type": "code",
   "execution_count": 14,
   "id": "3a69ada4",
   "metadata": {},
   "outputs": [],
   "source": [
    "import json\n",
    "from pydantic.json_schema import GenerateJsonSchema\n",
    "    \n",
    "examples = [\n",
    "    {\"kind\": \"vdW1\", \"model\":{\"a\": 1.0, \"b\": 2.0}},\n",
    "    {\"kind\": \"PR\", \"model\": {\"Tcrit / K\": [190], \"pcrit / Pa\": [3.5e6], \"acentric\": [0.11], \"alpha\": {\"type\": \"Twu\", \"c\":[1,2,3]}}}\n",
    "]\n",
    "for example in examples:\n",
    "    klass = locals()[example['kind']]\n",
    "    klass.model_validate(example['model'])\n",
    "    \n",
    "schemas = {}\n",
    "for klass in [vdW1, vdW, PR, SRK]:\n",
    "    schemas[klass.__name__] = klass.model_json_schema()\n",
    "with open(\"schemas.json\",'w') as fp:\n",
    "    fp.write(json.dumps(schemas, indent=2))"
   ]
  }
 ],
 "metadata": {
  "kernelspec": {
   "display_name": "Python 3 (ipykernel)",
   "language": "python",
   "name": "python3"
  },
  "language_info": {
   "codemirror_mode": {
    "name": "ipython",
    "version": 3
   },
   "file_extension": ".py",
   "mimetype": "text/x-python",
   "name": "python",
   "nbconvert_exporter": "python",
   "pygments_lexer": "ipython3",
   "version": "3.10.6"
  }
 },
 "nbformat": 4,
 "nbformat_minor": 5
}
