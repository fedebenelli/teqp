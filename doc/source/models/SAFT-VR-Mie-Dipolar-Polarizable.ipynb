{
 "cells": [
  {
   "cell_type": "markdown",
   "id": "8482721f-0615-4b73-83ee-187b2f890521",
   "metadata": {},
   "source": [
    "# SAFT-VR-Mie with polar contributions"
   ]
  },
  {
   "cell_type": "code",
   "execution_count": null,
   "id": "d1842386",
   "metadata": {},
   "outputs": [],
   "source": [
    "import teqp\n",
    "teqp.__version__"
   ]
  },
  {
   "cell_type": "code",
   "execution_count": null,
   "id": "16f05ec8",
   "metadata": {},
   "outputs": [],
   "source": [
    "import numpy as np\n",
    "import matplotlib.pyplot as plt\n",
    "import math, json"
   ]
  },
  {
   "cell_type": "code",
   "execution_count": null,
   "id": "be8268a7",
   "metadata": {},
   "outputs": [],
   "source": [
    "# These values are not important, get something on the right order of magnitude\n",
    "ek = 100 # [K]\n",
    "sigma_m = 1e-10\n",
    "                     \n",
    "N_A = 6.022e23\n",
    "fig, (ax1, ax2) = plt.subplots(2, 1)\n",
    "\n",
    "kB = 1.380649e-23 # Boltzmann's constant, J/K\n",
    "epsilon_0 = 8.8541878128e-12 # Vacuum permittivity\n",
    "k_e = 1.0/(4.0*np.pi*epsilon_0*sigma_m**3)\n",
    "\n",
    "polar_model = 'GrayGubbins+GubbinsTwu'\n",
    "\n",
    "for mustar in [1, 2]:\n",
    "    x,TT,DD = [],[],[]\n",
    "    for alphastar in [0.0, 0.03, 0.06]:\n",
    "\n",
    "        alpha_m3 = alphastar*sigma_m**3\n",
    "\n",
    "        rhostar_guess = 0.27\n",
    "        Tstar_guess = 1.5\n",
    "        mu_Cm = (ek*kB/k_e)**0.5*mustar\n",
    "        j = {\n",
    "            \"kind\": 'SAFT-VR-Mie',\n",
    "            \"model\": {\n",
    "                \"polar_model\": polar_model,\n",
    "                \"polar_flags\": {\n",
    "                    \"polarizable\": {\n",
    "                        \"alpha_symm / m^3\": [alpha_m3], \n",
    "                        \"alpha_asymm / m^3\": [0.0]\n",
    "                    }\n",
    "                },\n",
    "                \"coeffs\": [{\n",
    "                    \"name\": \"PolarizableStockmayer\",\n",
    "                    \"BibTeXKey\": \"me\",\n",
    "                    \"m\": 1.0,\n",
    "                    \"epsilon_over_k\": ek, # [K]\n",
    "                    \"sigma_m\": sigma_m,\n",
    "                    \"lambda_r\": 12.0,\n",
    "                    \"lambda_a\": 6.0,\n",
    "                    \"mu_Cm\": mu_Cm,\n",
    "                    \"nmu\": 1.0\n",
    "                }]\n",
    "            }\n",
    "        }\n",
    "        model = teqp.make_model(j)\n",
    "\n",
    "        T, rho = model.solve_pure_critical(Tstar_guess*ek, rhostar_guess/(N_A*sigma_m**3))\n",
    "        # Store the values\n",
    "        x.append(alphastar)\n",
    "        TT.append(T/ek)\n",
    "        DD.append(rho*N_A*sigma_m**3)\n",
    "        # Update the guess for the next calculation\n",
    "        Tstar_guess = TT[-1]\n",
    "        rhostar_guess = DD[-1]\n",
    "#         print(TT[-1], DD[-1])\n",
    "\n",
    "    ax1.plot(x, TT, label=f'$\\mu^*={mustar}$')\n",
    "    ax2.plot(x, DD)\n",
    "        \n",
    "ax1.legend(loc='best')\n",
    "ax1.set(ylabel=r'$T^*$')\n",
    "ax2.set(xlabel=r'$\\alpha^*$', ylabel=r'$\\rho^*$')\n",
    "plt.show()"
   ]
  }
 ],
 "metadata": {
  "kernelspec": {
   "display_name": "Python 3 (ipykernel)",
   "language": "python",
   "name": "python3"
  },
  "language_info": {
   "codemirror_mode": {
    "name": "ipython",
    "version": 3
   },
   "file_extension": ".py",
   "mimetype": "text/x-python",
   "name": "python",
   "nbconvert_exporter": "python",
   "pygments_lexer": "ipython3",
   "version": "3.10.6"
  }
 },
 "nbformat": 4,
 "nbformat_minor": 5
}
